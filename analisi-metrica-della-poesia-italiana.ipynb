{
 "cells": [
  {
   "cell_type": "code",
   "execution_count": 1,
   "id": "270f96d6",
   "metadata": {
    "_cell_guid": "b1076dfc-b9ad-4769-8c92-a6c4dae69d19",
    "_uuid": "8f2839f25d086af736a60e9eeb907d3b93b6e0e5",
    "execution": {
     "iopub.execute_input": "2021-09-13T15:46:37.905558Z",
     "iopub.status.busy": "2021-09-13T15:46:37.904398Z",
     "iopub.status.idle": "2021-09-13T15:46:39.473822Z",
     "shell.execute_reply": "2021-09-13T15:46:39.473153Z",
     "shell.execute_reply.started": "2021-09-13T15:32:58.246844Z"
    },
    "papermill": {
     "duration": 1.591778,
     "end_time": "2021-09-13T15:46:39.473988",
     "exception": false,
     "start_time": "2021-09-13T15:46:37.882210",
     "status": "completed"
    },
    "tags": []
   },
   "outputs": [
    {
     "name": "stdout",
     "output_type": "stream",
     "text": [
      "/kaggle/input/poesie-italiane-800900/Dataset Poesie completo.txt\n"
     ]
    }
   ],
   "source": [
    "# This Python 3 environment comes with many helpful analytics libraries installed\n",
    "# It is defined by the kaggle/python Docker image: https://github.com/kaggle/docker-python\n",
    "# For example, here's several helpful packages to load\n",
    "\n",
    "import numpy as np # linear algebra\n",
    "import pandas as pd # data processing, CSV file I/O (e.g. pd.read_csv)\n",
    "import nltk\n",
    "\n",
    "# Input data files are available in the read-only \"../input/\" directory\n",
    "# For example, running this (by clicking run or pressing Shift+Enter) will list all files under the input directory\n",
    "\n",
    "import os\n",
    "for dirname, _, filenames in os.walk('/kaggle/input'):\n",
    "    for filename in filenames:\n",
    "        print(os.path.join(dirname, filename))\n",
    "\n",
    "# You can write up to 20GB to the current directory (/kaggle/working/) that gets preserved as output when you create a version using \"Save & Run All\" \n",
    "# You can also write temporary files to /kaggle/temp/, but they won't be saved outside of the current session"
   ]
  },
  {
   "cell_type": "code",
   "execution_count": 2,
   "id": "3881dd6b",
   "metadata": {
    "execution": {
     "iopub.execute_input": "2021-09-13T15:46:39.513519Z",
     "iopub.status.busy": "2021-09-13T15:46:39.512906Z",
     "iopub.status.idle": "2021-09-13T15:46:39.549286Z",
     "shell.execute_reply": "2021-09-13T15:46:39.549778Z",
     "shell.execute_reply.started": "2021-09-13T15:32:59.662444Z"
    },
    "papermill": {
     "duration": 0.057392,
     "end_time": "2021-09-13T15:46:39.549938",
     "exception": false,
     "start_time": "2021-09-13T15:46:39.492546",
     "status": "completed"
    },
    "tags": []
   },
   "outputs": [
    {
     "data": {
      "text/html": [
       "<div>\n",
       "<style scoped>\n",
       "    .dataframe tbody tr th:only-of-type {\n",
       "        vertical-align: middle;\n",
       "    }\n",
       "\n",
       "    .dataframe tbody tr th {\n",
       "        vertical-align: top;\n",
       "    }\n",
       "\n",
       "    .dataframe thead th {\n",
       "        text-align: right;\n",
       "    }\n",
       "</style>\n",
       "<table border=\"1\" class=\"dataframe\">\n",
       "  <thead>\n",
       "    <tr style=\"text-align: right;\">\n",
       "      <th></th>\n",
       "      <th>titolo</th>\n",
       "      <th>autore</th>\n",
       "      <th>testo</th>\n",
       "      <th>figure_rilevanti</th>\n",
       "      <th>analisi_metrica</th>\n",
       "    </tr>\n",
       "  </thead>\n",
       "  <tbody>\n",
       "    <tr>\n",
       "      <th>0</th>\n",
       "      <td>Per il quinto anniversario della battaglia di ...</td>\n",
       "      <td>Giosue Carducci</td>\n",
       "      <td>Ogni anno, allor che lugubre\\r\\nL’ora de la sc...</td>\n",
       "      <td>ossimoro</td>\n",
       "      <td>Sette strofe formate ciascuna da otto settenar...</td>\n",
       "    </tr>\n",
       "    <tr>\n",
       "      <th>1</th>\n",
       "      <td>Traversando la Maremma toscana</td>\n",
       "      <td>Giosue Carducci</td>\n",
       "      <td>Dolce paese, onde portai conforme\\r\\nL’abito ﬁ...</td>\n",
       "      <td>enjambement</td>\n",
       "      <td>Sonetto con schema ABAB ABAB CDC DCD.</td>\n",
       "    </tr>\n",
       "    <tr>\n",
       "      <th>2</th>\n",
       "      <td>Dinanzi alle Terme di Caracalla</td>\n",
       "      <td>Giosue Carducci</td>\n",
       "      <td>Corron tra 'l Celio fosche e l'Aventino\\r\\nle ...</td>\n",
       "      <td>climax</td>\n",
       "      <td>Ode composta da dieci strofe saffiche, rese co...</td>\n",
       "    </tr>\n",
       "    <tr>\n",
       "      <th>3</th>\n",
       "      <td>Alla stazione in una mattina d'autunno</td>\n",
       "      <td>Giosue Carducci</td>\n",
       "      <td>Oh quei fanali come s’inseguono\\r\\naccidïosi l...</td>\n",
       "      <td>climax, allitterazioni, assonanze, similitudini</td>\n",
       "      <td>Quindici strofe alcaiche, ovvero due endecasil...</td>\n",
       "    </tr>\n",
       "    <tr>\n",
       "      <th>4</th>\n",
       "      <td>Sogno d'estate</td>\n",
       "      <td>Giosue Carducci</td>\n",
       "      <td>Tra le battaglie, Omero, nel carme tuo sempre ...</td>\n",
       "      <td>ripetizioni, enumerazione</td>\n",
       "      <td>37 esametri, composti per lo più da combinazio...</td>\n",
       "    </tr>\n",
       "    <tr>\n",
       "      <th>...</th>\n",
       "      <td>...</td>\n",
       "      <td>...</td>\n",
       "      <td>...</td>\n",
       "      <td>...</td>\n",
       "      <td>...</td>\n",
       "    </tr>\n",
       "    <tr>\n",
       "      <th>87</th>\n",
       "      <td>Ritorno</td>\n",
       "      <td>Giorgio Caproni</td>\n",
       "      <td>Sono tornato là\\r\\ndove non ero mai stato.\\r\\n...</td>\n",
       "      <td>enjambement, inversioni</td>\n",
       "      <td>Versi brevi con rime identiche, in -ato, in ol...</td>\n",
       "    </tr>\n",
       "    <tr>\n",
       "      <th>88</th>\n",
       "      <td>Foglio di via</td>\n",
       "      <td>Franco Fortini</td>\n",
       "      <td>Dunque nulla di nuovo da questa altezza\\r\\nDov...</td>\n",
       "      <td>anafore, ripetizioni</td>\n",
       "      <td>Quattro brevi strofe di versi lunghi: tre terz...</td>\n",
       "    </tr>\n",
       "    <tr>\n",
       "      <th>89</th>\n",
       "      <td>Prima persona</td>\n",
       "      <td>Andrea Zanzotto</td>\n",
       "      <td>-Io -in tremiti continui, -io- disperso\\r\\ne p...</td>\n",
       "      <td>ripetizioni, ossimori, enjambement, allitteraz...</td>\n",
       "      <td>Versi liberi, prevalentemente endecasillabi e ...</td>\n",
       "    </tr>\n",
       "    <tr>\n",
       "      <th>90</th>\n",
       "      <td>Oltranza-oltraggio</td>\n",
       "      <td>Andrea Zanzotto</td>\n",
       "      <td>Salti saltabecchi friggendo puro-pura\\r\\nnel v...</td>\n",
       "      <td>allitterazioni, ripetizioni</td>\n",
       "      <td>Versi e versicoli senza rapporto con la metric...</td>\n",
       "    </tr>\n",
       "    <tr>\n",
       "      <th>91</th>\n",
       "      <td>«Tato» padovano</td>\n",
       "      <td>Andrea Zanzotto</td>\n",
       "      <td>«Tato» padovano\\r\\nnella tua epigrafe-manifest...</td>\n",
       "      <td>enjambement, similitudine, ripetizioni</td>\n",
       "      <td>Versi liberi, da quattro sillabe fino a tredic...</td>\n",
       "    </tr>\n",
       "  </tbody>\n",
       "</table>\n",
       "<p>92 rows × 5 columns</p>\n",
       "</div>"
      ],
      "text/plain": [
       "                                               titolo           autore  \\\n",
       "0   Per il quinto anniversario della battaglia di ...  Giosue Carducci   \n",
       "1                      Traversando la Maremma toscana  Giosue Carducci   \n",
       "2                     Dinanzi alle Terme di Caracalla  Giosue Carducci   \n",
       "3              Alla stazione in una mattina d'autunno  Giosue Carducci   \n",
       "4                                      Sogno d'estate  Giosue Carducci   \n",
       "..                                                ...              ...   \n",
       "87                                            Ritorno  Giorgio Caproni   \n",
       "88                                      Foglio di via   Franco Fortini   \n",
       "89                                      Prima persona  Andrea Zanzotto   \n",
       "90                                 Oltranza-oltraggio  Andrea Zanzotto   \n",
       "91                                    «Tato» padovano  Andrea Zanzotto   \n",
       "\n",
       "                                                testo  \\\n",
       "0   Ogni anno, allor che lugubre\\r\\nL’ora de la sc...   \n",
       "1   Dolce paese, onde portai conforme\\r\\nL’abito ﬁ...   \n",
       "2   Corron tra 'l Celio fosche e l'Aventino\\r\\nle ...   \n",
       "3   Oh quei fanali come s’inseguono\\r\\naccidïosi l...   \n",
       "4   Tra le battaglie, Omero, nel carme tuo sempre ...   \n",
       "..                                                ...   \n",
       "87  Sono tornato là\\r\\ndove non ero mai stato.\\r\\n...   \n",
       "88  Dunque nulla di nuovo da questa altezza\\r\\nDov...   \n",
       "89  -Io -in tremiti continui, -io- disperso\\r\\ne p...   \n",
       "90  Salti saltabecchi friggendo puro-pura\\r\\nnel v...   \n",
       "91  «Tato» padovano\\r\\nnella tua epigrafe-manifest...   \n",
       "\n",
       "                                     figure_rilevanti  \\\n",
       "0                                            ossimoro   \n",
       "1                                         enjambement   \n",
       "2                                              climax   \n",
       "3     climax, allitterazioni, assonanze, similitudini   \n",
       "4                           ripetizioni, enumerazione   \n",
       "..                                                ...   \n",
       "87                            enjambement, inversioni   \n",
       "88                               anafore, ripetizioni   \n",
       "89  ripetizioni, ossimori, enjambement, allitteraz...   \n",
       "90                        allitterazioni, ripetizioni   \n",
       "91             enjambement, similitudine, ripetizioni   \n",
       "\n",
       "                                      analisi_metrica  \n",
       "0   Sette strofe formate ciascuna da otto settenar...  \n",
       "1               Sonetto con schema ABAB ABAB CDC DCD.  \n",
       "2   Ode composta da dieci strofe saffiche, rese co...  \n",
       "3   Quindici strofe alcaiche, ovvero due endecasil...  \n",
       "4   37 esametri, composti per lo più da combinazio...  \n",
       "..                                                ...  \n",
       "87  Versi brevi con rime identiche, in -ato, in ol...  \n",
       "88  Quattro brevi strofe di versi lunghi: tre terz...  \n",
       "89  Versi liberi, prevalentemente endecasillabi e ...  \n",
       "90  Versi e versicoli senza rapporto con la metric...  \n",
       "91  Versi liberi, da quattro sillabe fino a tredic...  \n",
       "\n",
       "[92 rows x 5 columns]"
      ]
     },
     "execution_count": 2,
     "metadata": {},
     "output_type": "execute_result"
    }
   ],
   "source": [
    "data=pd.read_csv(\"../input/poesie-italiane-800900/Dataset Poesie completo.txt\")\n",
    "data"
   ]
  },
  {
   "cell_type": "code",
   "execution_count": 3,
   "id": "2fdfcc4d",
   "metadata": {
    "execution": {
     "iopub.execute_input": "2021-09-13T15:46:39.593883Z",
     "iopub.status.busy": "2021-09-13T15:46:39.592603Z",
     "iopub.status.idle": "2021-09-13T15:46:39.605196Z",
     "shell.execute_reply": "2021-09-13T15:46:39.604405Z",
     "shell.execute_reply.started": "2021-09-13T15:32:59.702209Z"
    },
    "papermill": {
     "duration": 0.036814,
     "end_time": "2021-09-13T15:46:39.605364",
     "exception": false,
     "start_time": "2021-09-13T15:46:39.568550",
     "status": "completed"
    },
    "tags": []
   },
   "outputs": [
    {
     "data": {
      "text/plain": [
       "'Dolce paese, onde portai conforme\\r\\nL’abito ﬁero e lo sdegnoso canto\\r\\nE il petto ov’odio e amor mai non s’addorme,\\r\\nPur ti riveggo, e il cuor mi balza in tanto.\\r\\n\\r\\nBen riconosco in te le usate forme\\r\\nCon gli occhi incerti tra ’l sorriso e il pianto,\\r\\nE in quelle seguo de’ miei sogni l’orme\\r\\nErranti dietro il giovenile incanto.\\r\\n\\r\\nOh, quel che amai, quel che sognai, fu in vano;\\r\\nE sempre corsi, e mai non giunsi il fine;\\r\\nE dimani cadrò. Ma di lontano\\r\\n\\r\\nPace dicono al cuor le tue colline\\r\\nCon le nebbie sfumanti e il verde piano\\r\\nRidente ne le pioggie mattutine.'"
      ]
     },
     "execution_count": 3,
     "metadata": {},
     "output_type": "execute_result"
    }
   ],
   "source": [
    "#scegliamo una poesia da analizzare \n",
    "poesia = data.testo[1]\n",
    "poesia"
   ]
  },
  {
   "cell_type": "code",
   "execution_count": 4,
   "id": "7c9bb3b5",
   "metadata": {
    "execution": {
     "iopub.execute_input": "2021-09-13T15:46:39.658216Z",
     "iopub.status.busy": "2021-09-13T15:46:39.657555Z",
     "iopub.status.idle": "2021-09-13T15:46:39.660499Z",
     "shell.execute_reply": "2021-09-13T15:46:39.661155Z",
     "shell.execute_reply.started": "2021-09-13T15:32:59.713270Z"
    },
    "papermill": {
     "duration": 0.029689,
     "end_time": "2021-09-13T15:46:39.661328",
     "exception": false,
     "start_time": "2021-09-13T15:46:39.631639",
     "status": "completed"
    },
    "tags": []
   },
   "outputs": [
    {
     "name": "stdout",
     "output_type": "stream",
     "text": [
      "Dolce paese, onde portai conforme\n",
      "L’abito ﬁero e lo sdegnoso canto\n",
      "E il petto ov’odio e amor mai non s’addorme,\n",
      "Pur ti riveggo, e il cuor mi balza in tanto.\n",
      "\n",
      "Ben riconosco in te le usate forme\n",
      "Con gli occhi incerti tra ’l sorriso e il pianto,\n",
      "E in quelle seguo de’ miei sogni l’orme\n",
      "Erranti dietro il giovenile incanto.\n",
      "\n",
      "Oh, quel che amai, quel che sognai, fu in vano;\n",
      "E sempre corsi, e mai non giunsi il fine;\n",
      "E dimani cadrò. Ma di lontano\n",
      "\n",
      "Pace dicono al cuor le tue colline\n",
      "Con le nebbie sfumanti e il verde piano\n",
      "Ridente ne le pioggie mattutine.\n"
     ]
    }
   ],
   "source": [
    "#stampiamo la poesia in modo che sia leggibile, verso per verso\n",
    "versi = poesia.splitlines()\n",
    "for verso in versi:\n",
    "    print(verso)"
   ]
  },
  {
   "cell_type": "code",
   "execution_count": 5,
   "id": "28523922",
   "metadata": {
    "execution": {
     "iopub.execute_input": "2021-09-13T15:46:39.708930Z",
     "iopub.status.busy": "2021-09-13T15:46:39.704080Z",
     "iopub.status.idle": "2021-09-13T15:46:39.712410Z",
     "shell.execute_reply": "2021-09-13T15:46:39.712900Z",
     "shell.execute_reply.started": "2021-09-13T15:32:59.728537Z"
    },
    "papermill": {
     "duration": 0.032323,
     "end_time": "2021-09-13T15:46:39.713077",
     "exception": false,
     "start_time": "2021-09-13T15:46:39.680754",
     "status": "completed"
    },
    "tags": []
   },
   "outputs": [
    {
     "name": "stdout",
     "output_type": "stream",
     "text": [
      "La poesia è composta da  4  strofe;\n",
      "per un totale di 14  versi.\n"
     ]
    }
   ],
   "source": [
    "#contiamo versi e strofe\n",
    "numstrofe = 1\n",
    "numversi = 0\n",
    "separatori=[0]\n",
    "i=0\n",
    "while i<len(versi):\n",
    "    if versi[i] == \"\":\n",
    "        numstrofe += 1\n",
    "        separatori.append(i)\n",
    "    else: numversi += 1\n",
    "    i+=1 \n",
    "\n",
    "if numstrofe==1:\n",
    "    print(\"La poesia è composta da 1 strofa;\")\n",
    "else:\n",
    "    print(\"La poesia è composta da \",numstrofe,\" strofe;\")\n",
    "    \n",
    "print(\"per un totale di\",numversi,\" versi.\")"
   ]
  },
  {
   "cell_type": "code",
   "execution_count": 6,
   "id": "e29c1431",
   "metadata": {
    "execution": {
     "iopub.execute_input": "2021-09-13T15:46:39.761983Z",
     "iopub.status.busy": "2021-09-13T15:46:39.761135Z",
     "iopub.status.idle": "2021-09-13T15:46:39.764272Z",
     "shell.execute_reply": "2021-09-13T15:46:39.764806Z",
     "shell.execute_reply.started": "2021-09-13T15:32:59.738758Z"
    },
    "papermill": {
     "duration": 0.031691,
     "end_time": "2021-09-13T15:46:39.764977",
     "exception": false,
     "start_time": "2021-09-13T15:46:39.733286",
     "status": "completed"
    },
    "tags": []
   },
   "outputs": [
    {
     "name": "stdout",
     "output_type": "stream",
     "text": [
      "Le strofe sono formate rispettivamente da [4, 4, 3, 3] versi.\n"
     ]
    }
   ],
   "source": [
    "#Utilizziamo la lista di indici \"separatori\" creata nella cella precedente\n",
    "#per creare una lista di versi raggruppati nelle strofe individuate\n",
    "i=0\n",
    "strofe=[]\n",
    "while i<(len(separatori)):\n",
    "    if i==len(separatori)-1:\n",
    "        strofe.append(versi[separatori[i]:])\n",
    "    else:\n",
    "        strofe.append(versi[separatori[i]:separatori[i+1]])\n",
    "    i += 1\n",
    "\n",
    "for strofa in strofe:\n",
    "    for verso in strofa:\n",
    "        if verso == \"\":\n",
    "            strofa.remove(\"\")\n",
    "\n",
    "lungstrofe=[]\n",
    "for strofa in strofe:\n",
    "    lungstrofe.append(len(strofa))\n",
    "\n",
    "if numstrofe==1:\n",
    "    print(\"La strofa è formata da\",lungstrofe,\"versi.\")\n",
    "else:\n",
    "    print(\"Le strofe sono formate rispettivamente da\",lungstrofe,\"versi.\")"
   ]
  },
  {
   "cell_type": "code",
   "execution_count": 7,
   "id": "a1d10be4",
   "metadata": {
    "execution": {
     "iopub.execute_input": "2021-09-13T15:46:39.814790Z",
     "iopub.status.busy": "2021-09-13T15:46:39.814095Z",
     "iopub.status.idle": "2021-09-13T15:46:39.817356Z",
     "shell.execute_reply": "2021-09-13T15:46:39.816841Z",
     "shell.execute_reply.started": "2021-09-13T15:32:59.750883Z"
    },
    "papermill": {
     "duration": 0.032746,
     "end_time": "2021-09-13T15:46:39.817496",
     "exception": false,
     "start_time": "2021-09-13T15:46:39.784750",
     "status": "completed"
    },
    "tags": []
   },
   "outputs": [],
   "source": [
    "#Definiamo una funzione che individui la parte di rima che ci interessa\n",
    "#è una soluzione approssimativa perché non prende in considerazione gli accenti\n",
    "#se non quando è l'ultima vocale ad essere accentata\n",
    "#si basa piuttosto sulla ricerca della prima vocale utile a ritroso dalla fine di parola\n",
    "\n",
    "def trovarima(parola):\n",
    "    if parola[-1] in \"àèéìòù\":\n",
    "        rima = parola[-1:]\n",
    "    elif len(parola)<=3 and parola[-1] in \"aàâeèéiìoòuù\":\n",
    "        rima = parola[-1:]\n",
    "    elif len(parola)<=3 and parola[-1] not in \"aàâeèéiìoòuù\":\n",
    "        rima = parola[-2:]\n",
    "    elif parola[-2] in \"aàâeèéiìoòuù\" and parola[-1] not in \"aàâeèéiìoòuù\":\n",
    "        rima = parola[-2:]\n",
    "    elif parola[-3] in \"aàâeèéiìoòuù\":\n",
    "        rima = parola[-3:]\n",
    "    elif parola[-4] in \"aàâeèéiìoòuù\":\n",
    "        rima = parola[-4:]\n",
    "    else: rima = parola[-5:]\n",
    "#per assicurarci una corretta corrispondenza sostituiamo le vocali accentate con quelle normali\n",
    "    rima = rima.replace(\"à\",\"a\").replace(\"â\",\"a\").replace(\"è\",\"e\").replace(\"é\",\"e\").replace(\"ì\",\"i\").replace(\"ò\",\"o\").replace(\"ù\",\"u\")\n",
    "    return rima"
   ]
  },
  {
   "cell_type": "code",
   "execution_count": 8,
   "id": "1d84b591",
   "metadata": {
    "execution": {
     "iopub.execute_input": "2021-09-13T15:46:39.866508Z",
     "iopub.status.busy": "2021-09-13T15:46:39.865585Z",
     "iopub.status.idle": "2021-09-13T15:46:39.868424Z",
     "shell.execute_reply": "2021-09-13T15:46:39.867936Z",
     "shell.execute_reply.started": "2021-09-13T15:32:59.771475Z"
    },
    "papermill": {
     "duration": 0.029545,
     "end_time": "2021-09-13T15:46:39.868562",
     "exception": false,
     "start_time": "2021-09-13T15:46:39.839017",
     "status": "completed"
    },
    "tags": []
   },
   "outputs": [],
   "source": [
    "#Definiamo una funzione che assegni una lettera per ciascun elemento singolo della lista in input\n",
    "#questo ci permette di creare la notazione classica degli schemi di rime come ABAB, ABBA etc.\n",
    "\n",
    "def assegnABC(lista):\n",
    "    lettere=list(\"ABCDEFGHILMNOPQRSTUVZ\")\n",
    "    coppie={}\n",
    "    i=0\n",
    "    setmanuale=[]\n",
    "    for x in lista:\n",
    "        if x not in setmanuale:\n",
    "            setmanuale.append(x)\n",
    "    if len(setmanuale)<=len(lettere):\n",
    "        for x in setmanuale:\n",
    "            coppie[x]=lettere[i]\n",
    "            i+=1\n",
    "        return coppie\n",
    "    else:\n",
    "        return False"
   ]
  },
  {
   "cell_type": "code",
   "execution_count": 9,
   "id": "5786ae59",
   "metadata": {
    "execution": {
     "iopub.execute_input": "2021-09-13T15:46:39.914707Z",
     "iopub.status.busy": "2021-09-13T15:46:39.913962Z",
     "iopub.status.idle": "2021-09-13T15:46:39.916767Z",
     "shell.execute_reply": "2021-09-13T15:46:39.916219Z",
     "shell.execute_reply.started": "2021-09-13T15:32:59.782796Z"
    },
    "papermill": {
     "duration": 0.028449,
     "end_time": "2021-09-13T15:46:39.916931",
     "exception": false,
     "start_time": "2021-09-13T15:46:39.888482",
     "status": "completed"
    },
    "tags": []
   },
   "outputs": [],
   "source": [
    "#definisco una funzione per eliminare dal testo i caratteri che non mi servono, compresi gli spazi\n",
    "def pulisci(testo):\n",
    "    punt=[\",\",\".\",\";\",\":\",\"!\",\"’\",\"?\",\"…\",\" \",\"«\",\"»\",\"—\",\"'\",\"(\",\")\",\"-\"]\n",
    "    for x in punt:\n",
    "        testo = testo.replace(x,\"\")\n",
    "    return testo"
   ]
  },
  {
   "cell_type": "code",
   "execution_count": 10,
   "id": "1b466162",
   "metadata": {
    "execution": {
     "iopub.execute_input": "2021-09-13T15:46:39.965903Z",
     "iopub.status.busy": "2021-09-13T15:46:39.965111Z",
     "iopub.status.idle": "2021-09-13T15:46:39.968098Z",
     "shell.execute_reply": "2021-09-13T15:46:39.967513Z",
     "shell.execute_reply.started": "2021-09-13T15:32:59.798650Z"
    },
    "papermill": {
     "duration": 0.031282,
     "end_time": "2021-09-13T15:46:39.968238",
     "exception": false,
     "start_time": "2021-09-13T15:46:39.936956",
     "status": "completed"
    },
    "tags": []
   },
   "outputs": [],
   "source": [
    "#Definisco una funzione per il conteggio delle sillabe con le vocali\n",
    "#questo algoritmo dà come risultato un conteggio \"per difetto\" \n",
    "#poiché conta come unica sillaba tutti i casi in cui sono presenti più vocali vicine\n",
    "#anche intermezzate da \"h\"\n",
    "#Nel caso in cui sia presente la \"ï\" invece la considererà in maniera separata\n",
    "\n",
    "def contasillabe(verso):\n",
    "    verso = pulisci(verso) #elimino la punteggiatura con una funzione precedentemente definita\n",
    "    verso = verso.replace(\"h\",\"\") #tolgo anche l'h che in italiano è muta\n",
    "    i=0\n",
    "    conto=0\n",
    "    while i<len(verso):\n",
    "        if verso[i] not in \"AEIOUaàâeèéiìoòuùï\":\n",
    "            i+=1\n",
    "        elif verso[i] == \"ï\":\n",
    "            conto+=1\n",
    "            i+=1\n",
    "        elif i<len(verso)-1 and verso[i] in \"AEIOUaàâeèéiìoòuù\" and verso[i+1] not in \"AEIOUaàâeèéiìoòuù\":\n",
    "            conto+=1\n",
    "            i+=1\n",
    "        elif i<len(verso)-1 and verso[i] in \"AEIOUaàâeèéiìoòuù\" and verso[i+1] in \"AEIOUaàâeèéiìoòuù\":\n",
    "            i+=1\n",
    "        else: \n",
    "            conto+=1\n",
    "            i+=1\n",
    "    return conto"
   ]
  },
  {
   "cell_type": "code",
   "execution_count": 11,
   "id": "b3f6b766",
   "metadata": {
    "execution": {
     "iopub.execute_input": "2021-09-13T15:46:40.014832Z",
     "iopub.status.busy": "2021-09-13T15:46:40.014175Z",
     "iopub.status.idle": "2021-09-13T15:46:40.017505Z",
     "shell.execute_reply": "2021-09-13T15:46:40.018034Z",
     "shell.execute_reply.started": "2021-09-13T15:32:59.810153Z"
    },
    "papermill": {
     "duration": 0.028866,
     "end_time": "2021-09-13T15:46:40.018206",
     "exception": false,
     "start_time": "2021-09-13T15:46:39.989340",
     "status": "completed"
    },
    "tags": []
   },
   "outputs": [
    {
     "name": "stdout",
     "output_type": "stream",
     "text": [
      "[10, 11, 11, 11, 11, 11, 11, 11, 11, 11, 11, 11, 11, 11]\n"
     ]
    }
   ],
   "source": [
    "conteggioversi=[]\n",
    "for verso in versi:\n",
    "    if contasillabe(verso) != 0:\n",
    "        conteggioversi.append(contasillabe(verso))\n",
    "\n",
    "print(conteggioversi)"
   ]
  },
  {
   "cell_type": "code",
   "execution_count": 12,
   "id": "6c4196e9",
   "metadata": {
    "execution": {
     "iopub.execute_input": "2021-09-13T15:46:40.066099Z",
     "iopub.status.busy": "2021-09-13T15:46:40.065351Z",
     "iopub.status.idle": "2021-09-13T15:46:40.068241Z",
     "shell.execute_reply": "2021-09-13T15:46:40.068871Z",
     "shell.execute_reply.started": "2021-09-13T15:32:59.823234Z"
    },
    "papermill": {
     "duration": 0.0303,
     "end_time": "2021-09-13T15:46:40.069074",
     "exception": false,
     "start_time": "2021-09-13T15:46:40.038774",
     "status": "completed"
    },
    "tags": []
   },
   "outputs": [],
   "source": [
    "#per individuare la tipologia di versi creiamo un semplice dizionario\n",
    "dizversi = {}\n",
    "dizversi[2] = \"bisillabi\"\n",
    "dizversi[3] = \"trisillabi\"\n",
    "dizversi[4] = \"quadrisillabi\"\n",
    "dizversi[5] = \"quinari\"\n",
    "dizversi[6] = \"senari\"\n",
    "dizversi[7] = \"settenari\"\n",
    "dizversi[8] = \"ottonari\"\n",
    "dizversi[9] = \"novenari\"\n",
    "dizversi[10] = \"decasillabi\"\n",
    "dizversi[11] = \"endecasillabi\""
   ]
  },
  {
   "cell_type": "code",
   "execution_count": 13,
   "id": "7c74f002",
   "metadata": {
    "execution": {
     "iopub.execute_input": "2021-09-13T15:46:40.122916Z",
     "iopub.status.busy": "2021-09-13T15:46:40.121888Z",
     "iopub.status.idle": "2021-09-13T15:46:40.129388Z",
     "shell.execute_reply": "2021-09-13T15:46:40.128742Z",
     "shell.execute_reply.started": "2021-09-13T15:32:59.838196Z"
    },
    "papermill": {
     "duration": 0.035421,
     "end_time": "2021-09-13T15:46:40.129536",
     "exception": false,
     "start_time": "2021-09-13T15:46:40.094115",
     "status": "completed"
    },
    "tags": []
   },
   "outputs": [
    {
     "name": "stdout",
     "output_type": "stream",
     "text": [
      "I versi sono prevalentemente endecasillabi .\n"
     ]
    }
   ],
   "source": [
    "#importo la funzione di calcolo della moda, che individua il valore più ripetuto\n",
    "#così da farci stampare la tipologia di verso più presente\n",
    "\n",
    "from statistics import mode\n",
    "print(\"I versi sono prevalentemente\",dizversi[mode(conteggioversi)],\".\")"
   ]
  },
  {
   "cell_type": "code",
   "execution_count": 14,
   "id": "3fdb1cc6",
   "metadata": {
    "execution": {
     "iopub.execute_input": "2021-09-13T15:46:40.174793Z",
     "iopub.status.busy": "2021-09-13T15:46:40.174111Z",
     "iopub.status.idle": "2021-09-13T15:46:52.272670Z",
     "shell.execute_reply": "2021-09-13T15:46:52.273214Z",
     "shell.execute_reply.started": "2021-09-13T15:32:59.853710Z"
    },
    "papermill": {
     "duration": 12.123236,
     "end_time": "2021-09-13T15:46:52.273385",
     "exception": false,
     "start_time": "2021-09-13T15:46:40.150149",
     "status": "completed"
    },
    "tags": []
   },
   "outputs": [
    {
     "name": "stdout",
     "output_type": "stream",
     "text": [
      "Collecting pyphen\r\n",
      "  Downloading pyphen-0.11.0-py3-none-any.whl (2.0 MB)\r\n",
      "\u001b[K     |████████████████████████████████| 2.0 MB 282 kB/s \r\n",
      "\u001b[?25hInstalling collected packages: pyphen\r\n",
      "Successfully installed pyphen-0.11.0\r\n",
      "\u001b[33mWARNING: Running pip as the 'root' user can result in broken permissions and conflicting behaviour with the system package manager. It is recommended to use a virtual environment instead: https://pip.pypa.io/warnings/venv\u001b[0m\r\n",
      "Note: you may need to restart the kernel to use updated packages.\n"
     ]
    }
   ],
   "source": [
    "pip install pyphen "
   ]
  },
  {
   "cell_type": "code",
   "execution_count": 15,
   "id": "958f7f0f",
   "metadata": {
    "execution": {
     "iopub.execute_input": "2021-09-13T15:46:52.334940Z",
     "iopub.status.busy": "2021-09-13T15:46:52.334205Z",
     "iopub.status.idle": "2021-09-13T15:46:52.341795Z",
     "shell.execute_reply": "2021-09-13T15:46:52.341189Z",
     "shell.execute_reply.started": "2021-09-13T15:33:09.837025Z"
    },
    "papermill": {
     "duration": 0.040615,
     "end_time": "2021-09-13T15:46:52.341950",
     "exception": false,
     "start_time": "2021-09-13T15:46:52.301335",
     "status": "completed"
    },
    "tags": []
   },
   "outputs": [],
   "source": [
    "#Grazie ad una estensione già sviluppata possiamo visualizzare la divisione in sillabe delle parole della poesia\n",
    "#utile anche per controllare eventuali fenomeni particolari per l'individuazione del tipo di verso\n",
    "import pyphen #scarico il sillabatore e lo importo"
   ]
  },
  {
   "cell_type": "code",
   "execution_count": 16,
   "id": "77ddebb1",
   "metadata": {
    "execution": {
     "iopub.execute_input": "2021-09-13T15:46:52.412562Z",
     "iopub.status.busy": "2021-09-13T15:46:52.409289Z",
     "iopub.status.idle": "2021-09-13T15:46:52.417190Z",
     "shell.execute_reply": "2021-09-13T15:46:52.417912Z",
     "shell.execute_reply.started": "2021-09-13T15:33:09.849870Z"
    },
    "papermill": {
     "duration": 0.046861,
     "end_time": "2021-09-13T15:46:52.418136",
     "exception": false,
     "start_time": "2021-09-13T15:46:52.371275",
     "status": "completed"
    },
    "tags": []
   },
   "outputs": [
    {
     "name": "stdout",
     "output_type": "stream",
     "text": [
      "Dol-ce pae-se, on-de por-tai con-for-me\n",
      "L’a-bi-to ﬁe-ro e lo sde-gno-so can-to\n",
      "E il pet-to ov’o-dio e amor mai non s’ad-dor-me,\n",
      "Pur ti ri-veg-go, e il cuor mi bal-za in tan-to.\n",
      "\n",
      "Ben ri-co-no-sco in te le usa-te for-me\n",
      "Con gli oc-chi in-cer-ti tra ’l sor-ri-so e il pian-to,\n",
      "E in quel-le se-guo de’ miei so-gni l’or-me\n",
      "Er-ran-ti die-tro il gio-ve-ni-le in-can-to.\n",
      "\n",
      "Oh, quel che amai, quel che so-gnai, fu in va-no;\n",
      "E sem-pre cor-si, e mai non giun-si il fi-ne;\n",
      "E di-ma-ni ca-drò. Ma di lon-ta-no\n",
      "\n",
      "Pa-ce di-co-no al cuor le tue col-li-ne\n",
      "Con le neb-bie sfu-man-ti e il ver-de pia-no\n",
      "Ri-den-te ne le piog-gie mat-tu-ti-ne.\n"
     ]
    }
   ],
   "source": [
    "dic = pyphen.Pyphen(lang='it_IT')\n",
    "for verso in versi:\n",
    "    versosill=[]\n",
    "    tokens = verso.split()\n",
    "    for x in tokens:\n",
    "        versosill.append(dic.inserted(x))\n",
    "    versou= \" \".join(versosill)\n",
    "    #aggiungiamo il caso in cui sappiamo che sicuramente si sdoppia la sillaba\n",
    "    versou= versou.replace(\"ï\",\"ï-\") \n",
    "    print(versou)"
   ]
  },
  {
   "cell_type": "code",
   "execution_count": 17,
   "id": "9ec1beb8",
   "metadata": {
    "execution": {
     "iopub.execute_input": "2021-09-13T15:46:52.486190Z",
     "iopub.status.busy": "2021-09-13T15:46:52.485476Z",
     "iopub.status.idle": "2021-09-13T15:46:52.488015Z",
     "shell.execute_reply": "2021-09-13T15:46:52.487457Z",
     "shell.execute_reply.started": "2021-09-13T15:33:09.875731Z"
    },
    "papermill": {
     "duration": 0.041509,
     "end_time": "2021-09-13T15:46:52.488156",
     "exception": false,
     "start_time": "2021-09-13T15:46:52.446647",
     "status": "completed"
    },
    "tags": []
   },
   "outputs": [],
   "source": [
    "#Definisco una funzione che vada a trovare lo schema di rima strofa per strofa\n",
    "#questa funzione prende in input \"strofe\" che la poesia sotto forma di lista di liste\n",
    "\n",
    "def schemastrofe(strofe):\n",
    "    schemarime=[]\n",
    "    for strofa in strofe:\n",
    "        listarime=[]\n",
    "        schemastrofa=[]\n",
    "        for verso in strofa:\n",
    "            if verso != \"\":\n",
    "                parole = verso.split()\n",
    "                if parole[-1] == \"\" or pulisci(parole[-1]) == \"\":\n",
    "                    parola = pulisci(parole[-2])\n",
    "                    listarime.append(trovarima(parola))\n",
    "                else:\n",
    "                    parola = pulisci(parole[-1])\n",
    "                    listarime.append(trovarima(parola))\n",
    "        if assegnABC(listarime) != False:\n",
    "            for rima in listarime:\n",
    "                schemastrofa.append(assegnABC(listarime)[rima])\n",
    "            schemarime.append(\"\".join(schemastrofa))\n",
    "        else:\n",
    "            return \"Nessuno schema di rime rilevato\"\n",
    "    if len(set(schemarime))==1:\n",
    "        return schemarime[0]\n",
    "    else:\n",
    "        return \"Nessuno schema di rime rilevato\""
   ]
  },
  {
   "cell_type": "code",
   "execution_count": 18,
   "id": "d6c11817",
   "metadata": {
    "execution": {
     "iopub.execute_input": "2021-09-13T15:46:52.547836Z",
     "iopub.status.busy": "2021-09-13T15:46:52.547171Z",
     "iopub.status.idle": "2021-09-13T15:46:52.555018Z",
     "shell.execute_reply": "2021-09-13T15:46:52.555535Z",
     "shell.execute_reply.started": "2021-09-13T15:33:10.079425Z"
    },
    "papermill": {
     "duration": 0.039371,
     "end_time": "2021-09-13T15:46:52.555721",
     "exception": false,
     "start_time": "2021-09-13T15:46:52.516350",
     "status": "completed"
    },
    "tags": []
   },
   "outputs": [],
   "source": [
    "#Definisco una funzione che vada a trovare lo schema di rime sull'intera poesia\n",
    "#questa funzione prende in input \"versi\" che è la poesia sotto forma di lista di versi\n",
    "#e \"separatori\" lista di indici per separare le varie strofe\n",
    "\n",
    "def schemapoesia(versi, separatori):\n",
    "    schemarime=[]\n",
    "    listarime=[]\n",
    "    schemastrofa=[]\n",
    "    for verso in versi:\n",
    "        if verso != \"\":\n",
    "            parole = verso.split()\n",
    "            if parole[-1] == \"\" or pulisci(parole[-1]) == \"\":\n",
    "                parola = pulisci(parole[-2])\n",
    "                listarime.append(trovarima(parola))\n",
    "            else:\n",
    "                parola = pulisci(parole[-1])\n",
    "                listarime.append(trovarima(parola))\n",
    "    if assegnABC(listarime) != False:\n",
    "        for rima in listarime:\n",
    "            schemastrofa.append(assegnABC(listarime)[rima])\n",
    "        for x in separatori[1:]:\n",
    "            schemastrofa.insert(x,\" \")\n",
    "        schemarime.append(\"\".join(schemastrofa))\n",
    "        return schemarime\n",
    "    else:\n",
    "        return \"Nessuno schema di rime rilevato\""
   ]
  },
  {
   "cell_type": "code",
   "execution_count": 19,
   "id": "672f8e11",
   "metadata": {
    "execution": {
     "iopub.execute_input": "2021-09-13T15:46:52.615022Z",
     "iopub.status.busy": "2021-09-13T15:46:52.614387Z",
     "iopub.status.idle": "2021-09-13T15:46:52.620823Z",
     "shell.execute_reply": "2021-09-13T15:46:52.621423Z",
     "shell.execute_reply.started": "2021-09-13T15:33:10.097786Z"
    },
    "papermill": {
     "duration": 0.037684,
     "end_time": "2021-09-13T15:46:52.621576",
     "exception": false,
     "start_time": "2021-09-13T15:46:52.583892",
     "status": "completed"
    },
    "tags": []
   },
   "outputs": [
    {
     "name": "stdout",
     "output_type": "stream",
     "text": [
      "Sonetto con schema:  ['ABAB ABAB CDC DCD']\n"
     ]
    }
   ],
   "source": [
    "#INDIVIDUAZIONE SCHEMA DI RIME\n",
    "\n",
    "if lungstrofe == [4,4,3,3]:\n",
    "    print(\"Sonetto con schema: \", schemapoesia(versi, separatori))\n",
    "elif set(lungstrofe) == {3}:\n",
    "    print(\"Terzine; \",schemapoesia(versi, separatori))\n",
    "else:\n",
    "    print(schemastrofe(strofe))"
   ]
  },
  {
   "cell_type": "code",
   "execution_count": 20,
   "id": "2c3a8f26",
   "metadata": {
    "execution": {
     "iopub.execute_input": "2021-09-13T15:46:52.680958Z",
     "iopub.status.busy": "2021-09-13T15:46:52.680311Z",
     "iopub.status.idle": "2021-09-13T15:46:52.685591Z",
     "shell.execute_reply": "2021-09-13T15:46:52.686221Z",
     "shell.execute_reply.started": "2021-09-13T15:33:10.116807Z"
    },
    "papermill": {
     "duration": 0.036757,
     "end_time": "2021-09-13T15:46:52.686381",
     "exception": false,
     "start_time": "2021-09-13T15:46:52.649624",
     "status": "completed"
    },
    "tags": []
   },
   "outputs": [
    {
     "data": {
      "text/plain": [
       "'Sonetto con schema ABAB ABAB CDC DCD.'"
      ]
     },
     "execution_count": 20,
     "metadata": {},
     "output_type": "execute_result"
    }
   ],
   "source": [
    "analisi = data.analisi_metrica[1]\n",
    "analisi"
   ]
  }
 ],
 "metadata": {
  "kernelspec": {
   "display_name": "Python 3",
   "language": "python",
   "name": "python3"
  },
  "language_info": {
   "codemirror_mode": {
    "name": "ipython",
    "version": 3
   },
   "file_extension": ".py",
   "mimetype": "text/x-python",
   "name": "python",
   "nbconvert_exporter": "python",
   "pygments_lexer": "ipython3",
   "version": "3.7.10"
  },
  "papermill": {
   "default_parameters": {},
   "duration": 23.496006,
   "end_time": "2021-09-13T15:46:53.424872",
   "environment_variables": {},
   "exception": null,
   "input_path": "__notebook__.ipynb",
   "output_path": "__notebook__.ipynb",
   "parameters": {},
   "start_time": "2021-09-13T15:46:29.928866",
   "version": "2.3.3"
  }
 },
 "nbformat": 4,
 "nbformat_minor": 5
}
